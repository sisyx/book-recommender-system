{
 "cells": [
  {
   "cell_type": "code",
   "execution_count": 1,
   "id": "fa542e66-0e67-4599-9764-c3440d734d2c",
   "metadata": {},
   "outputs": [],
   "source": [
    "import pandas as pd"
   ]
  },
  {
   "cell_type": "code",
   "execution_count": 2,
   "id": "0446551a-565b-4e5d-a156-c51895447120",
   "metadata": {},
   "outputs": [],
   "source": [
    "df = pd.read_csv(\"dataset/books.csv\")"
   ]
  },
  {
   "cell_type": "code",
   "execution_count": 4,
   "id": "9254aeaa-34ed-4eb8-b81f-b4a10b088177",
   "metadata": {},
   "outputs": [],
   "source": [
    "filt = df[\"rating\"] == 0"
   ]
  },
  {
   "cell_type": "code",
   "execution_count": 5,
   "id": "c3018434-9d84-4a6b-b4de-8c52502219c0",
   "metadata": {},
   "outputs": [],
   "source": [
    "clean_df = df[filt]"
   ]
  }
 ],
 "metadata": {
  "kernelspec": {
   "display_name": "Python 3 (ipykernel)",
   "language": "python",
   "name": "python3"
  },
  "language_info": {
   "codemirror_mode": {
    "name": "ipython",
    "version": 3
   },
   "file_extension": ".py",
   "mimetype": "text/x-python",
   "name": "python",
   "nbconvert_exporter": "python",
   "pygments_lexer": "ipython3",
   "version": "3.13.3"
  }
 },
 "nbformat": 4,
 "nbformat_minor": 5
}
